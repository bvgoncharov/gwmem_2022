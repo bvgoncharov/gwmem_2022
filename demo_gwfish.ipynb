{
 "cells": [
  {
   "cell_type": "code",
   "execution_count": 1,
   "id": "9897d510",
   "metadata": {},
   "outputs": [],
   "source": [
    "import numpy as np\n",
    "import pandas as pd\n",
    "\n",
    "from numpy.random import default_rng\n",
    "\n",
    "import time\n",
    "import json\n",
    "\n",
    "from itertools import combinations, chain\n",
    "\n",
    "from tqdm import tqdm\n",
    "\n",
    "import argparse\n",
    "\n",
    "import GWFish.modules as gw"
   ]
  },
  {
   "cell_type": "code",
   "execution_count": 2,
   "id": "4de536c9",
   "metadata": {},
   "outputs": [],
   "source": [
    "rng = default_rng()\n",
    "\n",
    "def powerset(length):\n",
    "    it = chain.from_iterable((combinations(range(length), r)) for r in range(length+1))\n",
    "    return list(it)[1:]"
   ]
  },
  {
   "cell_type": "code",
   "execution_count": 13,
   "id": "2b4d1bd1",
   "metadata": {},
   "outputs": [],
   "source": [
    "pop_file='../GWFish/injections/CBC_pop.hdf5'\n",
    "pop_id='BBH'\n",
    "detectors_ids=['ET']\n",
    "networks='[[0]]'\n",
    "config='../GWFish/GWFish/detectors.yaml'"
   ]
  },
  {
   "cell_type": "code",
   "execution_count": 14,
   "id": "c8063922",
   "metadata": {},
   "outputs": [],
   "source": [
    "threshold_SNR = np.array([0., 9.])  # [min. individual SNR to be included in PE, min. network SNR for detection]\n",
    "calculate_errors = True   # whether to calculate Fisher-matrix based PE errors\n",
    "duty_cycle = False  # whether to consider the duty cycle of detectors\n",
    "\n",
    "#fisher_parameters = ['ra', 'dec', 'psi', 'theta_jn', 'luminosity_distance', 'mass_1', 'mass_2', 'geocent_time', 'phase']\n",
    "fisher_parameters = ['ra', 'dec', 'psi', 'theta_jn', 'luminosity_distance', 'mass_1', 'mass_2']\n",
    "#fisher_parameters = ['luminosity_distance','ra','dec']\n",
    "\n",
    "if networks == 'all':\n",
    "    networks_ids = powerset(len(detectors_ids))\n",
    "else:\n",
    "    networks_ids = json.loads(networks)\n",
    "\n",
    "parameters = pd.read_hdf(pop_file)\n",
    "\n",
    "network = gw.detection.Network(detectors_ids, detection_SNR=threshold_SNR, parameters=parameters,\n",
    "                               fisher_parameters=fisher_parameters, config=config)"
   ]
  },
  {
   "cell_type": "code",
   "execution_count": 17,
   "id": "9caaed0f",
   "metadata": {},
   "outputs": [
    {
     "name": "stdout",
     "output_type": "stream",
     "text": [
      "Processing CBC population\n"
     ]
    },
    {
     "name": "stderr",
     "output_type": "stream",
     "text": [
      "  0%|                                                     | 0/1 [00:00<?, ?it/s]FD version of approximant not implemented in lalsimulation\n",
      "XLAL Error - XLALSimInspiralChooseFDWaveformSequence (/Users/runner/miniforge3/conda-bld/lalsimulation-split_1667213792573/work/lib/LALSimInspiralWaveformCache.c:1501): Invalid argument\n",
      "  0%|                                                     | 0/1 [00:00<?, ?it/s]\n"
     ]
    },
    {
     "ename": "RuntimeError",
     "evalue": "Invalid argument",
     "output_type": "error",
     "traceback": [
      "\u001b[0;31m---------------------------------------------------------------------------\u001b[0m",
      "\u001b[0;31mRuntimeError\u001b[0m                              Traceback (most recent call last)",
      "Input \u001b[0;32mIn [17]\u001b[0m, in \u001b[0;36m<cell line: 17>\u001b[0;34m()\u001b[0m\n\u001b[1;32m     20\u001b[0m networkSNR_sq \u001b[38;5;241m=\u001b[39m \u001b[38;5;241m0\u001b[39m\n\u001b[1;32m     21\u001b[0m \u001b[38;5;28;01mfor\u001b[39;00m d \u001b[38;5;129;01min\u001b[39;00m np\u001b[38;5;241m.\u001b[39marange(\u001b[38;5;28mlen\u001b[39m(network\u001b[38;5;241m.\u001b[39mdetectors)):\n\u001b[0;32m---> 22\u001b[0m     wave, t_of_f \u001b[38;5;241m=\u001b[39m \u001b[43mgw\u001b[49m\u001b[38;5;241;43m.\u001b[39;49m\u001b[43mwaveforms\u001b[49m\u001b[38;5;241;43m.\u001b[39;49m\u001b[43mhphc_amplitudes\u001b[49m\u001b[43m(\u001b[49m\u001b[43mwaveform_model\u001b[49m\u001b[43m,\u001b[49m\u001b[43m \u001b[49m\u001b[43mparameter_values\u001b[49m\u001b[43m,\u001b[49m\n\u001b[1;32m     23\u001b[0m \u001b[43m                                                \u001b[49m\u001b[43mnetwork\u001b[49m\u001b[38;5;241;43m.\u001b[39;49m\u001b[43mdetectors\u001b[49m\u001b[43m[\u001b[49m\u001b[43md\u001b[49m\u001b[43m]\u001b[49m\u001b[38;5;241;43m.\u001b[39;49m\u001b[43mfrequencyvector\u001b[49m\u001b[43m)\u001b[49m\n\u001b[1;32m     24\u001b[0m                                                 \u001b[38;5;66;03m#plot=network.detectors[d].plotrange)\u001b[39;00m\n\u001b[1;32m     25\u001b[0m     signal \u001b[38;5;241m=\u001b[39m gw\u001b[38;5;241m.\u001b[39mdetection\u001b[38;5;241m.\u001b[39mprojection(parameter_values, network\u001b[38;5;241m.\u001b[39mdetectors[d], wave, t_of_f)\n",
      "File \u001b[0;32m~/projects/GWFish/GWFish/modules/waveforms.py:26\u001b[0m, in \u001b[0;36mhphc_amplitudes\u001b[0;34m(waveform, parameters, frequencyvector, plot)\u001b[0m\n\u001b[1;32m     24\u001b[0m     hphc \u001b[38;5;241m=\u001b[39m IMRPhenomD(parameters, frequencyvector, plot\u001b[38;5;241m=\u001b[39mplot)\n\u001b[1;32m     25\u001b[0m \u001b[38;5;28;01melif\u001b[39;00m waveform[\u001b[38;5;241m0\u001b[39m:\u001b[38;5;241m7\u001b[39m] \u001b[38;5;241m==\u001b[39m \u001b[38;5;124m'\u001b[39m\u001b[38;5;124mlalsim_\u001b[39m\u001b[38;5;124m'\u001b[39m:\n\u001b[0;32m---> 26\u001b[0m     hphc \u001b[38;5;241m=\u001b[39m \u001b[43mlal_caller\u001b[49m\u001b[43m(\u001b[49m\u001b[43mwaveform\u001b[49m\u001b[43m[\u001b[49m\u001b[38;5;241;43m7\u001b[39;49m\u001b[43m:\u001b[49m\u001b[43m]\u001b[49m\u001b[43m,\u001b[49m\u001b[43m \u001b[49m\u001b[43mfrequencyvector\u001b[49m\u001b[43m,\u001b[49m\u001b[43m \u001b[49m\u001b[38;5;241;43m*\u001b[39;49m\u001b[38;5;241;43m*\u001b[39;49m\u001b[43mparameters\u001b[49m\u001b[43m)\u001b[49m\n\u001b[1;32m     27\u001b[0m \u001b[38;5;28;01melse\u001b[39;00m:\n\u001b[1;32m     28\u001b[0m     \u001b[38;5;28mprint\u001b[39m(\u001b[38;5;28mstr\u001b[39m(waveform) \u001b[38;5;241m+\u001b[39m \u001b[38;5;124m'\u001b[39m\u001b[38;5;124m is not a valid waveform.\u001b[39m\u001b[38;5;124m'\u001b[39m)\n",
      "File \u001b[0;32m~/projects/GWFish/GWFish/modules/waveforms.py:138\u001b[0m, in \u001b[0;36mlal_caller\u001b[0;34m(waveform, frequencyvector, mass_1, mass_2, luminosity_distance, redshift, theta_jn, phase, geocent_time, a_1, tilt_1, phi_12, a_2, tilt_2, phi_jl, lambda_1, lambda_2, **kwargs)\u001b[0m\n\u001b[1;32m    135\u001b[0m frequency_array \u001b[38;5;241m=\u001b[39m CreateREAL8Vector(\u001b[38;5;28mlen\u001b[39m(frequencyvector))\n\u001b[1;32m    136\u001b[0m frequency_array\u001b[38;5;241m.\u001b[39mdata \u001b[38;5;241m=\u001b[39m frequencyvector\n\u001b[0;32m--> 138\u001b[0m h_plus, h_cross \u001b[38;5;241m=\u001b[39m \u001b[43mlalsim\u001b[49m\u001b[38;5;241;43m.\u001b[39;49m\u001b[43mSimInspiralChooseFDWaveformSequence\u001b[49m\u001b[43m(\u001b[49m\n\u001b[1;32m    139\u001b[0m \u001b[43m    \u001b[49m\u001b[43mphase\u001b[49m\u001b[43m,\u001b[49m\n\u001b[1;32m    140\u001b[0m \u001b[43m    \u001b[49m\u001b[43mmass_1\u001b[49m\u001b[43m \u001b[49m\u001b[38;5;241;43m*\u001b[39;49m\u001b[43m \u001b[49m\u001b[43mlal\u001b[49m\u001b[38;5;241;43m.\u001b[39;49m\u001b[43mMSUN_SI\u001b[49m\u001b[43m \u001b[49m\u001b[38;5;241;43m*\u001b[39;49m\u001b[43m \u001b[49m\u001b[43m(\u001b[49m\u001b[38;5;241;43m1\u001b[39;49m\u001b[43m \u001b[49m\u001b[38;5;241;43m+\u001b[39;49m\u001b[43m \u001b[49m\u001b[43mredshift\u001b[49m\u001b[43m)\u001b[49m\u001b[43m,\u001b[49m\u001b[43m  \u001b[49m\u001b[38;5;66;43;03m# in [kg]\u001b[39;49;00m\n\u001b[1;32m    141\u001b[0m \u001b[43m    \u001b[49m\u001b[43mmass_2\u001b[49m\u001b[43m \u001b[49m\u001b[38;5;241;43m*\u001b[39;49m\u001b[43m \u001b[49m\u001b[43mlal\u001b[49m\u001b[38;5;241;43m.\u001b[39;49m\u001b[43mMSUN_SI\u001b[49m\u001b[43m \u001b[49m\u001b[38;5;241;43m*\u001b[39;49m\u001b[43m \u001b[49m\u001b[43m(\u001b[49m\u001b[38;5;241;43m1\u001b[39;49m\u001b[43m \u001b[49m\u001b[38;5;241;43m+\u001b[39;49m\u001b[43m \u001b[49m\u001b[43mredshift\u001b[49m\u001b[43m)\u001b[49m\u001b[43m,\u001b[49m\u001b[43m  \u001b[49m\u001b[38;5;66;43;03m# in [kg]\u001b[39;49;00m\n\u001b[1;32m    142\u001b[0m \u001b[43m    \u001b[49m\u001b[43mspin_1x\u001b[49m\u001b[43m,\u001b[49m\u001b[43m \u001b[49m\u001b[43mspin_1y\u001b[49m\u001b[43m,\u001b[49m\u001b[43m \u001b[49m\u001b[43mspin_1z\u001b[49m\u001b[43m,\u001b[49m\u001b[43m \u001b[49m\u001b[43mspin_2x\u001b[49m\u001b[43m,\u001b[49m\u001b[43m \u001b[49m\u001b[43mspin_2y\u001b[49m\u001b[43m,\u001b[49m\u001b[43m \u001b[49m\u001b[43mspin_2z\u001b[49m\u001b[43m,\u001b[49m\n\u001b[1;32m    143\u001b[0m \u001b[43m    \u001b[49m\u001b[38;5;241;43m50.\u001b[39;49m\u001b[43m,\u001b[49m\u001b[43m  \u001b[49m\u001b[38;5;66;43;03m# reference frequency\u001b[39;49;00m\n\u001b[1;32m    144\u001b[0m \u001b[43m    \u001b[49m\u001b[43mluminosity_distance\u001b[49m\u001b[43m \u001b[49m\u001b[38;5;241;43m*\u001b[39;49m\u001b[43m \u001b[49m\u001b[43mlal\u001b[49m\u001b[38;5;241;43m.\u001b[39;49m\u001b[43mPC_SI\u001b[49m\u001b[43m \u001b[49m\u001b[38;5;241;43m*\u001b[39;49m\u001b[43m \u001b[49m\u001b[38;5;241;43m1e6\u001b[39;49m\u001b[43m,\u001b[49m\u001b[43m  \u001b[49m\u001b[38;5;66;43;03m# in [m]\u001b[39;49;00m\n\u001b[1;32m    145\u001b[0m \u001b[43m    \u001b[49m\u001b[43miota\u001b[49m\u001b[43m,\u001b[49m\n\u001b[1;32m    146\u001b[0m \u001b[43m    \u001b[49m\u001b[43mparams_lal\u001b[49m\u001b[43m,\u001b[49m\n\u001b[1;32m    147\u001b[0m \u001b[43m    \u001b[49m\u001b[43mapprox_lal\u001b[49m\u001b[43m,\u001b[49m\n\u001b[1;32m    148\u001b[0m \u001b[43m    \u001b[49m\u001b[43mfrequency_array\u001b[49m\n\u001b[1;32m    149\u001b[0m \u001b[43m\u001b[49m\u001b[43m)\u001b[49m\n\u001b[1;32m    151\u001b[0m \u001b[38;5;66;03m# Add initial 2pi*f*tc - phic - pi/4 to phase\u001b[39;00m\n\u001b[1;32m    152\u001b[0m phi_in \u001b[38;5;241m=\u001b[39m np\u001b[38;5;241m.\u001b[39mexp(\u001b[38;5;241m1.\u001b[39mj\u001b[38;5;241m*\u001b[39m(\u001b[38;5;241m2\u001b[39m\u001b[38;5;241m*\u001b[39mfrequencyvector\u001b[38;5;241m*\u001b[39mnp\u001b[38;5;241m.\u001b[39mpi\u001b[38;5;241m*\u001b[39mgeocent_time))\n",
      "\u001b[0;31mRuntimeError\u001b[0m: Invalid argument"
     ]
    }
   ],
   "source": [
    "# lisaGWresponse(network.detectors[0], frequencyvector)\n",
    "# exit()\n",
    "\n",
    "# horizon(network, parameters.iloc[0], frequencyvector, threshold_SNR, 1./df, fmax)\n",
    "# exit()\n",
    "\n",
    "#waveform_model = 'gwfish_TaylorF2'\n",
    "# waveform_model = 'gwfish_IMRPhenomD'\n",
    "#waveform_model = 'lalsim_TaylorF2'\n",
    "#waveform_model = 'lalsim_IMRPhenomD'\n",
    "#waveform_model = 'lalsim_IMRPhenomXPHM'\n",
    "waveform_model = 'lalsim_NRSur7dq2'\n",
    "\n",
    "np.random.seed(0)\n",
    "\n",
    "print('Processing CBC population')\n",
    "for k in tqdm(np.arange(1)):\n",
    "    parameter_values = parameters.iloc[k]\n",
    "\n",
    "    networkSNR_sq = 0\n",
    "    for d in np.arange(len(network.detectors)):\n",
    "        wave, t_of_f = gw.waveforms.hphc_amplitudes(waveform_model, parameter_values,\n",
    "                                                    network.detectors[d].frequencyvector)\n",
    "                                                    #plot=network.detectors[d].plotrange)\n",
    "        signal = gw.detection.projection(parameter_values, network.detectors[d], wave, t_of_f)\n",
    "\n",
    "        SNRs = gw.detection.SNR(network.detectors[d], signal, duty_cycle=duty_cycle)\n",
    "        networkSNR_sq += np.sum(SNRs ** 2)\n",
    "        network.detectors[d].SNR[k] = np.sqrt(np.sum(SNRs ** 2))\n",
    "\n",
    "        if calculate_errors:\n",
    "            network.detectors[d].fisher_matrix[k, :, :] = \\\n",
    "                gw.fishermatrix.FisherMatrix(waveform_model, parameter_values, fisher_parameters, network.detectors[d])\n",
    "\n",
    "    network.SNR[k] = np.sqrt(networkSNR_sq)\n",
    "\n",
    "gw.detection.analyzeDetections(network, parameters, pop_id, networks_ids)\n",
    "\n",
    "if calculate_errors:\n",
    "    gw.fishermatrix.analyzeFisherErrors(network, parameters, fisher_parameters, pop_id, networks_ids)"
   ]
  },
  {
   "cell_type": "code",
   "execution_count": null,
   "id": "bd7641e5",
   "metadata": {},
   "outputs": [],
   "source": []
  }
 ],
 "metadata": {
  "kernelspec": {
   "display_name": "gwmem_sxs",
   "language": "python",
   "name": "gwmem_sxs"
  },
  "language_info": {
   "codemirror_mode": {
    "name": "ipython",
    "version": 3
   },
   "file_extension": ".py",
   "mimetype": "text/x-python",
   "name": "python",
   "nbconvert_exporter": "python",
   "pygments_lexer": "ipython3",
   "version": "3.9.15"
  }
 },
 "nbformat": 4,
 "nbformat_minor": 5
}
